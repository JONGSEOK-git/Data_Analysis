{
 "cells": [
  {
   "cell_type": "code",
   "execution_count": 8,
   "id": "1525f3d0",
   "metadata": {},
   "outputs": [
    {
     "name": "stdout",
     "output_type": "stream",
     "text": [
      "찾고 싶은 지역의 이름을 써주세요 : 도담동\n"
     ]
    }
   ],
   "source": [
    "import csv\n",
    "f=open('gender.csv')\n",
    "data=csv.reader(f)\n",
    "\n",
    "m=[]\n",
    "f=[]\n",
    "\n",
    "name = input('찾고 싶은 지역의 이름을 써주세요 : ')\n",
    "\n",
    "for row in data:\n",
    "    if name in row[0]:\n",
    "        for i in range(0, 101) :\n",
    "            m.append(-int(row[i+3]))\n",
    "            f.append(int(row[-(i+1)]))\n",
    "f.reverse()"
   ]
  },
  {
   "cell_type": "code",
   "execution_count": 9,
   "id": "883dd487",
   "metadata": {},
   "outputs": [
    {
     "data": {
      "image/png": "[encoded data removed]",
      "text/plain": [
       "<Figure size 432x288 with 1 Axes>"
      ]
     },
     "metadata": {
      "needs_background": "light"
     },
     "output_type": "display_data"
    }
   ],
   "source": [
    "import matplotlib.pyplot as plt\n",
    "plt.rc('font', family='Malgun Gothic')\n",
    "plt.rcParams['axes.unicode_minus']=False\n",
    "plt.title(name + '지역의 남녀 성별 인구 분포')\n",
    "plt.barh(range(101), m, label='남성')\n",
    "plt.barh(range(101), f, label='여성')\n",
    "plt.legend()\n",
    "plt.show()"
   ]
  },
  {
   "cell_type": "code",
   "execution_count": null,
   "id": "20d80a96",
   "metadata": {},
   "outputs": [],
   "source": []
  }
 ],
 "metadata": {
  "kernelspec": {
   "display_name": "Python 3",
   "language": "python",
   "name": "python3"
  },
  "language_info": {
   "codemirror_mode": {
    "name": "ipython",
    "version": 3
   },
   "file_extension": ".py",
   "mimetype": "text/x-python",
   "name": "python",
   "nbconvert_exporter": "python",
   "pygments_lexer": "ipython3",
   "version": "3.8.8"
  }
 },
 "nbformat": 4,
 "nbformat_minor": 5
}
